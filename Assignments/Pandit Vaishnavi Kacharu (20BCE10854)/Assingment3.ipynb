{
  "nbformat": 4,
  "nbformat_minor": 0,
  "metadata": {
    "colab": {
      "provenance": []
    },
    "kernelspec": {
      "name": "python3",
      "display_name": "Python 3"
    },
    "language_info": {
      "name": "python"
    }
  },
  "cells": [
    {
      "cell_type": "code",
      "execution_count": null,
      "metadata": {
        "id": "ihwujNHrqGLq"
      },
      "outputs": [],
      "source": []
    },
    {
      "cell_type": "code",
      "source": [
        "from google.colab import drive\n",
        "drive.mount('/content/drive')"
      ],
      "metadata": {
        "id": "faypDucEqK5K"
      },
      "execution_count": null,
      "outputs": []
    },
    {
      "cell_type": "code",
      "source": [
        "import tensorflow as tf\n",
        "from tensorflow import keras\n",
        "from tensorflow.keras import layers"
      ],
      "metadata": {
        "id": "UcPCOm38qpq8"
      },
      "execution_count": 15,
      "outputs": []
    },
    {
      "cell_type": "code",
      "source": [
        "# Define the path to the dataset\n",
        "dataset_path = \"/content/drive/MyDrive/Colab Notebooks/Smart bridge AI/archive\"\n",
        "\n",
        "# Define the input image dimensions\n",
        "input_shape = (224, 224)\n",
        "\n",
        "# Create an instance of the ImageDataGenerator for preprocessing and augmentation\n",
        "datagen = keras.preprocessing.image.ImageDataGenerator(\n",
        "    rescale=1.0 / 255.0,\n",
        "    validation_split=0.2\n",
        ")\n",
        "\n",
        "# Generate the training dataset\n",
        "train_dataset = datagen.flow_from_directory(\n",
        "    dataset_path,\n",
        "    target_size=input_shape,\n",
        "    batch_size=32,\n",
        "    subset='training'\n",
        ")\n",
        "\n",
        "# Generate the testing dataset\n",
        "test_dataset = datagen.flow_from_directory(\n",
        "    dataset_path,\n",
        "    target_size=input_shape,\n",
        "    batch_size=32,\n",
        "    subset='validation'\n",
        ")\n"
      ],
      "metadata": {
        "id": "ZBNMAMroqrAW",
        "colab": {
          "base_uri": "https://localhost:8080/"
        },
        "outputId": "9dde802b-2642-445d-f39c-c2c408f576c1"
      },
      "execution_count": 16,
      "outputs": [
        {
          "output_type": "stream",
          "name": "stdout",
          "text": [
            "Found 246 images belonging to 2 classes.\n",
            "Found 61 images belonging to 2 classes.\n"
          ]
        }
      ]
    },
    {
      "cell_type": "code",
      "source": [
        "# Create a CNN model\n",
        "model = keras.Sequential([\n",
        "    layers.Conv2D(32, (3, 3), activation='relu', input_shape=(input_shape[0], input_shape[1], 3)),\n",
        "    layers.MaxPooling2D((2, 2)),\n",
        "    layers.Conv2D(64, (3, 3), activation='relu'),\n",
        "    layers.MaxPooling2D((2, 2)),\n",
        "    layers.Conv2D(128, (3, 3), activation='relu'),\n",
        "    layers.MaxPooling2D((2, 2)),\n",
        "    layers.Flatten(),\n",
        "    layers.Dense(128, activation='relu'),\n",
        "    layers.Dense(train_dataset.num_classes, activation='softmax')\n",
        "])\n",
        "\n",
        "# Compile the model\n",
        "model.compile(optimizer='adam',\n",
        "              loss='categorical_crossentropy',\n",
        "              metrics=['accuracy'])"
      ],
      "metadata": {
        "id": "DyvqOWB4rEGD"
      },
      "execution_count": 17,
      "outputs": []
    },
    {
      "cell_type": "code",
      "source": [
        "# Train the model\n",
        "model.fit(\n",
        "    train_dataset,\n",
        "    validation_data=test_dataset,\n",
        "    epochs=10\n",
        ")"
      ],
      "metadata": {
        "colab": {
          "base_uri": "https://localhost:8080/"
        },
        "id": "pw8lFujirGqn",
        "outputId": "e5901df4-16bf-4247-d0ef-78eb3e7b6bda"
      },
      "execution_count": 19,
      "outputs": [
        {
          "output_type": "stream",
          "name": "stdout",
          "text": [
            "Epoch 1/10\n",
            "8/8 [==============================] - 164s 21s/step - loss: 0.3509 - accuracy: 0.8455 - val_loss: 0.9208 - val_accuracy: 0.4918\n",
            "Epoch 2/10\n",
            "8/8 [==============================] - 142s 18s/step - loss: 0.2588 - accuracy: 0.8984 - val_loss: 1.1086 - val_accuracy: 0.4590\n",
            "Epoch 3/10\n",
            "8/8 [==============================] - 142s 19s/step - loss: 0.2123 - accuracy: 0.9187 - val_loss: 0.9481 - val_accuracy: 0.4918\n",
            "Epoch 4/10\n",
            "8/8 [==============================] - 135s 17s/step - loss: 0.1892 - accuracy: 0.9187 - val_loss: 1.1039 - val_accuracy: 0.4754\n",
            "Epoch 5/10\n",
            "8/8 [==============================] - 142s 19s/step - loss: 0.1640 - accuracy: 0.9431 - val_loss: 1.2036 - val_accuracy: 0.5410\n",
            "Epoch 6/10\n",
            "8/8 [==============================] - 149s 19s/step - loss: 0.1259 - accuracy: 0.9634 - val_loss: 1.5380 - val_accuracy: 0.4754\n",
            "Epoch 7/10\n",
            "8/8 [==============================] - 138s 18s/step - loss: 0.1079 - accuracy: 0.9715 - val_loss: 1.3044 - val_accuracy: 0.5410\n",
            "Epoch 8/10\n",
            "8/8 [==============================] - 143s 19s/step - loss: 0.1679 - accuracy: 0.9268 - val_loss: 1.4917 - val_accuracy: 0.5246\n",
            "Epoch 9/10\n",
            "8/8 [==============================] - 150s 19s/step - loss: 0.2256 - accuracy: 0.9309 - val_loss: 0.7817 - val_accuracy: 0.5738\n",
            "Epoch 10/10\n",
            "8/8 [==============================] - 138s 18s/step - loss: 0.1809 - accuracy: 0.9431 - val_loss: 1.0049 - val_accuracy: 0.4590\n"
          ]
        },
        {
          "output_type": "execute_result",
          "data": {
            "text/plain": [
              "<keras.callbacks.History at 0x7f22c7ace650>"
            ]
          },
          "metadata": {},
          "execution_count": 19
        }
      ]
    },
    {
      "cell_type": "code",
      "source": [
        "# Evaluate the model on the testing dataset\n",
        "test_loss, test_acc = model.evaluate(test_dataset)\n",
        "print(f\"Test Loss: {test_loss}\")\n",
        "print(f\"Test Accuracy: {test_acc}\")"
      ],
      "metadata": {
        "colab": {
          "base_uri": "https://localhost:8080/"
        },
        "id": "bdinKOEIrInk",
        "outputId": "be42c15c-0737-4323-9381-df172dfb7af4"
      },
      "execution_count": 20,
      "outputs": [
        {
          "output_type": "stream",
          "name": "stdout",
          "text": [
            "2/2 [==============================] - 34s 15s/step - loss: 1.0049 - accuracy: 0.4590\n",
            "Test Loss: 1.0049461126327515\n",
            "Test Accuracy: 0.4590163826942444\n"
          ]
        }
      ]
    },
    {
      "cell_type": "code",
      "source": [],
      "metadata": {
        "id": "x36RtL-hDCAi"
      },
      "execution_count": null,
      "outputs": []
    }
  ]
}