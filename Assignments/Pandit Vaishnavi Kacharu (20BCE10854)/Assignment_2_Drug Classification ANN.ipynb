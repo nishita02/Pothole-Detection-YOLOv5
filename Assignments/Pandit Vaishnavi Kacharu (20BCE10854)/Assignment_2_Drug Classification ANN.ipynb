{
 "cells": [
  {
   "cell_type": "code",
   "execution_count": 1,
   "id": "22a359b0",
   "metadata": {},
   "outputs": [],
   "source": [
    "import numpy as np\n",
    "import pandas as pd\n",
    "import matplotlib.pyplot as plt\n",
    "import seaborn as sns\n",
    "%matplotlib inline\n",
    "\n",
    "import tensorflow as tf\n",
    "from tensorflow import keras\n",
    "\n",
    "from sklearn.model_selection import train_test_split\n",
    "from sklearn.preprocessing import LabelEncoder\n",
    "from sklearn.preprocessing import StandardScaler"
   ]
  },
  {
   "cell_type": "code",
   "execution_count": 2,
   "id": "cdffd4a0",
   "metadata": {},
   "outputs": [],
   "source": [
    "# https://www.kaggle.com/datasets/prathamtripathi/drug-classification\n",
    "# load the dataset\n",
    "\n",
    "df = pd.read_csv('drug200.csv')"
   ]
  },
  {
   "cell_type": "code",
   "execution_count": 3,
   "id": "0d3791bc",
   "metadata": {},
   "outputs": [
    {
     "data": {
      "text/html": [
       "<div>\n",
       "<style scoped>\n",
       "    .dataframe tbody tr th:only-of-type {\n",
       "        vertical-align: middle;\n",
       "    }\n",
       "\n",
       "    .dataframe tbody tr th {\n",
       "        vertical-align: top;\n",
       "    }\n",
       "\n",
       "    .dataframe thead th {\n",
       "        text-align: right;\n",
       "    }\n",
       "</style>\n",
       "<table border=\"1\" class=\"dataframe\">\n",
       "  <thead>\n",
       "    <tr style=\"text-align: right;\">\n",
       "      <th></th>\n",
       "      <th>Age</th>\n",
       "      <th>Sex</th>\n",
       "      <th>BP</th>\n",
       "      <th>Cholesterol</th>\n",
       "      <th>Na_to_K</th>\n",
       "      <th>Drug</th>\n",
       "    </tr>\n",
       "  </thead>\n",
       "  <tbody>\n",
       "    <tr>\n",
       "      <th>0</th>\n",
       "      <td>23</td>\n",
       "      <td>F</td>\n",
       "      <td>HIGH</td>\n",
       "      <td>HIGH</td>\n",
       "      <td>25.355</td>\n",
       "      <td>DrugY</td>\n",
       "    </tr>\n",
       "    <tr>\n",
       "      <th>1</th>\n",
       "      <td>47</td>\n",
       "      <td>M</td>\n",
       "      <td>LOW</td>\n",
       "      <td>HIGH</td>\n",
       "      <td>13.093</td>\n",
       "      <td>drugC</td>\n",
       "    </tr>\n",
       "    <tr>\n",
       "      <th>2</th>\n",
       "      <td>47</td>\n",
       "      <td>M</td>\n",
       "      <td>LOW</td>\n",
       "      <td>HIGH</td>\n",
       "      <td>10.114</td>\n",
       "      <td>drugC</td>\n",
       "    </tr>\n",
       "    <tr>\n",
       "      <th>3</th>\n",
       "      <td>28</td>\n",
       "      <td>F</td>\n",
       "      <td>NORMAL</td>\n",
       "      <td>HIGH</td>\n",
       "      <td>7.798</td>\n",
       "      <td>drugX</td>\n",
       "    </tr>\n",
       "    <tr>\n",
       "      <th>4</th>\n",
       "      <td>61</td>\n",
       "      <td>F</td>\n",
       "      <td>LOW</td>\n",
       "      <td>HIGH</td>\n",
       "      <td>18.043</td>\n",
       "      <td>DrugY</td>\n",
       "    </tr>\n",
       "  </tbody>\n",
       "</table>\n",
       "</div>"
      ],
      "text/plain": [
       "   Age Sex      BP Cholesterol  Na_to_K   Drug\n",
       "0   23   F    HIGH        HIGH   25.355  DrugY\n",
       "1   47   M     LOW        HIGH   13.093  drugC\n",
       "2   47   M     LOW        HIGH   10.114  drugC\n",
       "3   28   F  NORMAL        HIGH    7.798  drugX\n",
       "4   61   F     LOW        HIGH   18.043  DrugY"
      ]
     },
     "execution_count": 3,
     "metadata": {},
     "output_type": "execute_result"
    }
   ],
   "source": [
    "df.head()"
   ]
  },
  {
   "cell_type": "markdown",
   "id": "d3b581bb",
   "metadata": {},
   "source": [
    "### Data Preprocessing"
   ]
  },
  {
   "cell_type": "code",
   "execution_count": 4,
   "id": "db5c8e9f",
   "metadata": {},
   "outputs": [
    {
     "data": {
      "text/plain": [
       "(200, 6)"
      ]
     },
     "execution_count": 4,
     "metadata": {},
     "output_type": "execute_result"
    }
   ],
   "source": [
    "df.shape        # 200 datapoints with 6 features"
   ]
  },
  {
   "cell_type": "code",
   "execution_count": 5,
   "id": "e08c4815",
   "metadata": {},
   "outputs": [
    {
     "name": "stdout",
     "output_type": "stream",
     "text": [
      "<class 'pandas.core.frame.DataFrame'>\n",
      "RangeIndex: 200 entries, 0 to 199\n",
      "Data columns (total 6 columns):\n",
      " #   Column       Non-Null Count  Dtype  \n",
      "---  ------       --------------  -----  \n",
      " 0   Age          200 non-null    int64  \n",
      " 1   Sex          200 non-null    object \n",
      " 2   BP           200 non-null    object \n",
      " 3   Cholesterol  200 non-null    object \n",
      " 4   Na_to_K      200 non-null    float64\n",
      " 5   Drug         200 non-null    object \n",
      "dtypes: float64(1), int64(1), object(4)\n",
      "memory usage: 9.5+ KB\n"
     ]
    }
   ],
   "source": [
    "df.info()"
   ]
  },
  {
   "cell_type": "code",
   "execution_count": 6,
   "id": "8e738fd4",
   "metadata": {},
   "outputs": [
    {
     "name": "stdout",
     "output_type": "stream",
     "text": [
      "['DrugY' 'drugC' 'drugX' 'drugA' 'drugB']\n",
      "['HIGH' 'NORMAL']\n",
      "['HIGH' 'LOW' 'NORMAL']\n",
      "['F' 'M']\n"
     ]
    }
   ],
   "source": [
    "# printing the categories in each feature\n",
    "\n",
    "print(df[\"Drug\"].unique())\n",
    "print(df[\"Cholesterol\"].unique())\n",
    "print(df[\"BP\"].unique())\n",
    "print(df[\"Sex\"].unique())"
   ]
  },
  {
   "cell_type": "code",
   "execution_count": 7,
   "id": "f41f889a",
   "metadata": {},
   "outputs": [
    {
     "data": {
      "text/plain": [
       "Age            0\n",
       "Sex            0\n",
       "BP             0\n",
       "Cholesterol    0\n",
       "Na_to_K        0\n",
       "Drug           0\n",
       "dtype: int64"
      ]
     },
     "execution_count": 7,
     "metadata": {},
     "output_type": "execute_result"
    }
   ],
   "source": [
    "# checking for null values\n",
    "\n",
    "df.isnull().sum()"
   ]
  },
  {
   "cell_type": "code",
   "execution_count": 8,
   "id": "e96d9428",
   "metadata": {},
   "outputs": [
    {
     "data": {
      "text/plain": [
       "<AxesSubplot: xlabel='Drug', ylabel='count'>"
      ]
     },
     "execution_count": 8,
     "metadata": {},
     "output_type": "execute_result"
    },
    {
     "data": {
      "image/png": "[encoded data removed]",
      "text/plain": [
       "<Figure size 432x288 with 1 Axes>"
      ]
     },
     "metadata": {
      "needs_background": "light"
     },
     "output_type": "display_data"
    }
   ],
   "source": [
    "sns.countplot(x = 'Drug', data = df)"
   ]
  },
  {
   "cell_type": "code",
   "execution_count": 9,
   "id": "78429649",
   "metadata": {},
   "outputs": [
    {
     "data": {
      "text/plain": [
       "<AxesSubplot: xlabel='Sex', ylabel='count'>"
      ]
     },
     "execution_count": 9,
     "metadata": {},
     "output_type": "execute_result"
    },
    {
     "data": {
      "image/png": "[encoded data removed]",
      "text/plain": [
       "<Figure size 432x288 with 1 Axes>"
      ]
     },
     "metadata": {
      "needs_background": "light"
     },
     "output_type": "display_data"
    }
   ],
   "source": [
    "sns.countplot(x = 'Sex', data = df)"
   ]
  },
  {
   "cell_type": "code",
   "execution_count": 10,
   "id": "9e50df8d",
   "metadata": {},
   "outputs": [
    {
     "data": {
      "text/plain": [
       "<AxesSubplot: xlabel='BP', ylabel='count'>"
      ]
     },
     "execution_count": 10,
     "metadata": {},
     "output_type": "execute_result"
    },
    {
     "data": {
      "image/png": "[encoded data removed]",
      "text/plain": [
       "<Figure size 432x288 with 1 Axes>"
      ]
     },
     "metadata": {
      "needs_background": "light"
     },
     "output_type": "display_data"
    }
   ],
   "source": [
    "sns.countplot(x = 'BP', data = df)"
   ]
  },
  {
   "cell_type": "code",
   "execution_count": 11,
   "id": "8c8c377d",
   "metadata": {},
   "outputs": [
    {
     "data": {
      "text/plain": [
       "<AxesSubplot: xlabel='Cholesterol', ylabel='count'>"
      ]
     },
     "execution_count": 11,
     "metadata": {},
     "output_type": "execute_result"
    },
    {
     "data": {
      "image/png": "[encoded data removed]",
      "text/plain": [
       "<Figure size 432x288 with 1 Axes>"
      ]
     },
     "metadata": {
      "needs_background": "light"
     },
     "output_type": "display_data"
    }
   ],
   "source": [
    "sns.countplot(x = 'Cholesterol', data = df)"
   ]
  },
  {
   "cell_type": "code",
   "execution_count": 12,
   "id": "71985811",
   "metadata": {},
   "outputs": [
    {
     "data": {
      "text/plain": [
       "<AxesSubplot: xlabel='Na_to_K', ylabel='Count'>"
      ]
     },
     "execution_count": 12,
     "metadata": {},
     "output_type": "execute_result"
    },
    {
     "data": {
      "image/png": "[encoded data removed]",
      "text/plain": [
       "<Figure size 432x288 with 1 Axes>"
      ]
     },
     "metadata": {
      "needs_background": "light"
     },
     "output_type": "display_data"
    }
   ],
   "source": [
    "# distribution of Na_to_K values\n",
    "\n",
    "sns.histplot(x ='Na_to_K', data = df )"
   ]
  },
  {
   "cell_type": "code",
   "execution_count": 13,
   "id": "3101528d",
   "metadata": {},
   "outputs": [],
   "source": [
    "# # replacing categories with numbers\n",
    "\n",
    "# df.Sex = df.Sex.replace({'M', 'F'},{1,2})\n",
    "# df.Cholesterol = df.Cholesterol.replace({'NORMAL', 'HIGH'},{1,2})\n",
    "# df.BP = df.BP.replace({'LOW','NORMAL', 'HIGH'},{-1,0,1})\n",
    "# df.head()"
   ]
  },
  {
   "cell_type": "markdown",
   "id": "1f5cb993",
   "metadata": {},
   "source": [
    "### Data splitting into X and Y"
   ]
  },
  {
   "cell_type": "code",
   "execution_count": 14,
   "id": "2beabc05",
   "metadata": {},
   "outputs": [],
   "source": [
    "X = df.drop(columns = 'Drug')\n",
    "Y = df['Drug']"
   ]
  },
  {
   "cell_type": "code",
   "execution_count": 15,
   "id": "ea03ff70",
   "metadata": {},
   "outputs": [],
   "source": [
    "# one hot encoding on X\n",
    "\n",
    "X = pd.get_dummies(X,columns=['Sex','BP','Cholesterol'],drop_first = True)"
   ]
  },
  {
   "cell_type": "code",
   "execution_count": 16,
   "id": "ba6458f2",
   "metadata": {},
   "outputs": [],
   "source": [
    "# label encoding on Y\n",
    "\n",
    "le = LabelEncoder()\n",
    "\n",
    "Y = le.fit_transform(Y)"
   ]
  },
  {
   "cell_type": "code",
   "execution_count": 17,
   "id": "08de710d",
   "metadata": {},
   "outputs": [],
   "source": [
    "X_train, X_test, Y_train, Y_test = train_test_split (X,Y,test_size=0.3,random_state=2)"
   ]
  },
  {
   "cell_type": "code",
   "execution_count": 18,
   "id": "09c0f93f",
   "metadata": {},
   "outputs": [
    {
     "data": {
      "text/html": [
       "<div>\n",
       "<style scoped>\n",
       "    .dataframe tbody tr th:only-of-type {\n",
       "        vertical-align: middle;\n",
       "    }\n",
       "\n",
       "    .dataframe tbody tr th {\n",
       "        vertical-align: top;\n",
       "    }\n",
       "\n",
       "    .dataframe thead th {\n",
       "        text-align: right;\n",
       "    }\n",
       "</style>\n",
       "<table border=\"1\" class=\"dataframe\">\n",
       "  <thead>\n",
       "    <tr style=\"text-align: right;\">\n",
       "      <th></th>\n",
       "      <th>Age</th>\n",
       "      <th>Na_to_K</th>\n",
       "      <th>Sex_M</th>\n",
       "      <th>BP_LOW</th>\n",
       "      <th>BP_NORMAL</th>\n",
       "      <th>Cholesterol_NORMAL</th>\n",
       "    </tr>\n",
       "  </thead>\n",
       "  <tbody>\n",
       "    <tr>\n",
       "      <th>28</th>\n",
       "      <td>39</td>\n",
       "      <td>22.697</td>\n",
       "      <td>0</td>\n",
       "      <td>1</td>\n",
       "      <td>0</td>\n",
       "      <td>1</td>\n",
       "    </tr>\n",
       "    <tr>\n",
       "      <th>133</th>\n",
       "      <td>24</td>\n",
       "      <td>25.786</td>\n",
       "      <td>1</td>\n",
       "      <td>0</td>\n",
       "      <td>1</td>\n",
       "      <td>0</td>\n",
       "    </tr>\n",
       "    <tr>\n",
       "      <th>94</th>\n",
       "      <td>56</td>\n",
       "      <td>15.015</td>\n",
       "      <td>1</td>\n",
       "      <td>1</td>\n",
       "      <td>0</td>\n",
       "      <td>0</td>\n",
       "    </tr>\n",
       "    <tr>\n",
       "      <th>42</th>\n",
       "      <td>50</td>\n",
       "      <td>15.790</td>\n",
       "      <td>1</td>\n",
       "      <td>0</td>\n",
       "      <td>1</td>\n",
       "      <td>1</td>\n",
       "    </tr>\n",
       "    <tr>\n",
       "      <th>169</th>\n",
       "      <td>20</td>\n",
       "      <td>11.262</td>\n",
       "      <td>0</td>\n",
       "      <td>0</td>\n",
       "      <td>0</td>\n",
       "      <td>0</td>\n",
       "    </tr>\n",
       "    <tr>\n",
       "      <th>...</th>\n",
       "      <td>...</td>\n",
       "      <td>...</td>\n",
       "      <td>...</td>\n",
       "      <td>...</td>\n",
       "      <td>...</td>\n",
       "      <td>...</td>\n",
       "    </tr>\n",
       "    <tr>\n",
       "      <th>43</th>\n",
       "      <td>23</td>\n",
       "      <td>12.260</td>\n",
       "      <td>1</td>\n",
       "      <td>0</td>\n",
       "      <td>1</td>\n",
       "      <td>0</td>\n",
       "    </tr>\n",
       "    <tr>\n",
       "      <th>22</th>\n",
       "      <td>47</td>\n",
       "      <td>30.568</td>\n",
       "      <td>1</td>\n",
       "      <td>1</td>\n",
       "      <td>0</td>\n",
       "      <td>1</td>\n",
       "    </tr>\n",
       "    <tr>\n",
       "      <th>72</th>\n",
       "      <td>24</td>\n",
       "      <td>10.605</td>\n",
       "      <td>0</td>\n",
       "      <td>0</td>\n",
       "      <td>1</td>\n",
       "      <td>0</td>\n",
       "    </tr>\n",
       "    <tr>\n",
       "      <th>15</th>\n",
       "      <td>16</td>\n",
       "      <td>15.516</td>\n",
       "      <td>0</td>\n",
       "      <td>0</td>\n",
       "      <td>0</td>\n",
       "      <td>1</td>\n",
       "    </tr>\n",
       "    <tr>\n",
       "      <th>168</th>\n",
       "      <td>51</td>\n",
       "      <td>23.003</td>\n",
       "      <td>0</td>\n",
       "      <td>1</td>\n",
       "      <td>0</td>\n",
       "      <td>1</td>\n",
       "    </tr>\n",
       "  </tbody>\n",
       "</table>\n",
       "<p>140 rows × 6 columns</p>\n",
       "</div>"
      ],
      "text/plain": [
       "     Age  Na_to_K  Sex_M  BP_LOW  BP_NORMAL  Cholesterol_NORMAL\n",
       "28    39   22.697      0       1          0                   1\n",
       "133   24   25.786      1       0          1                   0\n",
       "94    56   15.015      1       1          0                   0\n",
       "42    50   15.790      1       0          1                   1\n",
       "169   20   11.262      0       0          0                   0\n",
       "..   ...      ...    ...     ...        ...                 ...\n",
       "43    23   12.260      1       0          1                   0\n",
       "22    47   30.568      1       1          0                   1\n",
       "72    24   10.605      0       0          1                   0\n",
       "15    16   15.516      0       0          0                   1\n",
       "168   51   23.003      0       1          0                   1\n",
       "\n",
       "[140 rows x 6 columns]"
      ]
     },
     "execution_count": 18,
     "metadata": {},
     "output_type": "execute_result"
    }
   ],
   "source": [
    "X_train"
   ]
  },
  {
   "cell_type": "markdown",
   "id": "0870c2c4",
   "metadata": {},
   "source": [
    "### Feature Scaling"
   ]
  },
  {
   "cell_type": "code",
   "execution_count": 19,
   "id": "f0754958",
   "metadata": {},
   "outputs": [],
   "source": [
    "sc = StandardScaler()\n",
    "X_train = sc.fit_transform(X_train)\n",
    "X_test = sc.fit_transform(X_test)"
   ]
  },
  {
   "cell_type": "code",
   "execution_count": 20,
   "id": "97febd0e",
   "metadata": {},
   "outputs": [],
   "source": [
    "# one hot encoding for using 'categorical_entropy' as loss\n",
    "\n",
    "# Y_train = keras.utils.to_categorical(Y_train)\n",
    "# Y_test = keras.utils.to_categorical(Y_test) "
   ]
  },
  {
   "cell_type": "markdown",
   "id": "c4f8c610",
   "metadata": {},
   "source": [
    "### Model Building"
   ]
  },
  {
   "cell_type": "code",
   "execution_count": 21,
   "id": "611943e9",
   "metadata": {},
   "outputs": [],
   "source": [
    "model = keras.models.Sequential([\n",
    "    keras.layers.Dense(80, input_dim=6, activation='relu'),\n",
    "    keras.layers.Dense(64, activation='relu'),\n",
    "    keras.layers.Dense(48, activation='relu'),\n",
    "    keras.layers.Dense(16, activation='relu'),\n",
    "    keras.layers.Dense(5, activation='softmax')   # as there are 5 unique drugs\n",
    "])"
   ]
  },
  {
   "cell_type": "code",
   "execution_count": 22,
   "id": "3dd9e82d",
   "metadata": {},
   "outputs": [
    {
     "name": "stdout",
     "output_type": "stream",
     "text": [
      "Model: \"sequential\"\n",
      "_________________________________________________________________\n",
      " Layer (type)                Output Shape              Param #   \n",
      "=================================================================\n",
      " dense (Dense)               (None, 80)                560       \n",
      "                                                                 \n",
      " dense_1 (Dense)             (None, 64)                5184      \n",
      "                                                                 \n",
      " dense_2 (Dense)             (None, 48)                3120      \n",
      "                                                                 \n",
      " dense_3 (Dense)             (None, 16)                784       \n",
      "                                                                 \n",
      " dense_4 (Dense)             (None, 5)                 85        \n",
      "                                                                 \n",
      "=================================================================\n",
      "Total params: 9,733\n",
      "Trainable params: 9,733\n",
      "Non-trainable params: 0\n",
      "_________________________________________________________________\n"
     ]
    }
   ],
   "source": [
    "model.summary()"
   ]
  },
  {
   "cell_type": "markdown",
   "id": "aa2f6d24",
   "metadata": {},
   "source": [
    "### Model Compilation"
   ]
  },
  {
   "cell_type": "code",
   "execution_count": 23,
   "id": "b33f5618",
   "metadata": {},
   "outputs": [],
   "source": [
    "model.compile(loss = 'sparse_categorical_crossentropy', optimizer='adam', metrics=['accuracy'])"
   ]
  },
  {
   "cell_type": "code",
   "execution_count": 24,
   "id": "566f7042",
   "metadata": {},
   "outputs": [
    {
     "name": "stdout",
     "output_type": "stream",
     "text": [
      "Epoch 1/25\n",
      "24/24 [==============================] - 1s 4ms/step - loss: 1.5124 - accuracy: 0.3643\n",
      "Epoch 2/25\n",
      "24/24 [==============================] - 0s 4ms/step - loss: 1.1143 - accuracy: 0.6571\n",
      "Epoch 3/25\n",
      "24/24 [==============================] - 0s 4ms/step - loss: 0.8050 - accuracy: 0.7000\n",
      "Epoch 4/25\n",
      "24/24 [==============================] - 0s 4ms/step - loss: 0.6051 - accuracy: 0.7929\n",
      "Epoch 5/25\n",
      "24/24 [==============================] - 0s 4ms/step - loss: 0.4874 - accuracy: 0.8214\n",
      "Epoch 6/25\n",
      "24/24 [==============================] - 0s 4ms/step - loss: 0.3781 - accuracy: 0.8714\n",
      "Epoch 7/25\n",
      "24/24 [==============================] - 0s 4ms/step - loss: 0.3096 - accuracy: 0.8786\n",
      "Epoch 8/25\n",
      "24/24 [==============================] - 0s 4ms/step - loss: 0.2539 - accuracy: 0.8786\n",
      "Epoch 9/25\n",
      "24/24 [==============================] - 0s 4ms/step - loss: 0.2032 - accuracy: 0.9214\n",
      "Epoch 10/25\n",
      "24/24 [==============================] - 0s 4ms/step - loss: 0.1646 - accuracy: 0.9429\n",
      "Epoch 11/25\n",
      "24/24 [==============================] - 0s 4ms/step - loss: 0.1297 - accuracy: 0.9786\n",
      "Epoch 12/25\n",
      "24/24 [==============================] - 0s 4ms/step - loss: 0.0985 - accuracy: 0.9857\n",
      "Epoch 13/25\n",
      "24/24 [==============================] - 0s 4ms/step - loss: 0.0764 - accuracy: 0.9714\n",
      "Epoch 14/25\n",
      "24/24 [==============================] - 0s 4ms/step - loss: 0.0638 - accuracy: 0.9929\n",
      "Epoch 15/25\n",
      "24/24 [==============================] - 0s 4ms/step - loss: 0.0435 - accuracy: 1.0000\n",
      "Epoch 16/25\n",
      "24/24 [==============================] - 0s 4ms/step - loss: 0.0330 - accuracy: 1.0000\n",
      "Epoch 17/25\n",
      "24/24 [==============================] - 0s 4ms/step - loss: 0.0263 - accuracy: 1.0000\n",
      "Epoch 18/25\n",
      "24/24 [==============================] - 0s 4ms/step - loss: 0.0224 - accuracy: 1.0000\n",
      "Epoch 19/25\n",
      "24/24 [==============================] - 0s 4ms/step - loss: 0.0190 - accuracy: 1.0000\n",
      "Epoch 20/25\n",
      "24/24 [==============================] - 0s 4ms/step - loss: 0.0146 - accuracy: 1.0000\n",
      "Epoch 21/25\n",
      "24/24 [==============================] - 0s 4ms/step - loss: 0.0146 - accuracy: 1.0000\n",
      "Epoch 22/25\n",
      "24/24 [==============================] - 0s 4ms/step - loss: 0.0114 - accuracy: 1.0000\n",
      "Epoch 23/25\n",
      "24/24 [==============================] - 0s 4ms/step - loss: 0.0120 - accuracy: 1.0000\n",
      "Epoch 24/25\n",
      "24/24 [==============================] - 0s 4ms/step - loss: 0.0139 - accuracy: 1.0000\n",
      "Epoch 25/25\n",
      "24/24 [==============================] - 0s 4ms/step - loss: 0.0095 - accuracy: 1.0000\n"
     ]
    },
    {
     "data": {
      "text/plain": [
       "<keras.callbacks.History at 0x21587281540>"
      ]
     },
     "execution_count": 24,
     "metadata": {},
     "output_type": "execute_result"
    }
   ],
   "source": [
    "model.fit(X_train,Y_train,epochs=25, batch_size = 6)"
   ]
  },
  {
   "cell_type": "code",
   "execution_count": 25,
   "id": "3f937ff4",
   "metadata": {},
   "outputs": [
    {
     "name": "stdout",
     "output_type": "stream",
     "text": [
      "2/2 [==============================] - 0s 6ms/step - loss: 0.3806 - accuracy: 0.9000\n"
     ]
    },
    {
     "data": {
      "text/plain": [
       "[0.3805708587169647, 0.8999999761581421]"
      ]
     },
     "execution_count": 25,
     "metadata": {},
     "output_type": "execute_result"
    }
   ],
   "source": [
    "model.evaluate(X_test, Y_test)"
   ]
  },
  {
   "cell_type": "markdown",
   "id": "c459461d",
   "metadata": {},
   "source": [
    "#### This ANN Drug Classification model is achieving a test accuracy of around 90%"
   ]
  }
 ],
 "metadata": {
  "kernelspec": {
   "display_name": "Python 3 (ipykernel)",
   "language": "python",
   "name": "python3"
  },
  "language_info": {
   "codemirror_mode": {
    "name": "ipython",
    "version": 3
   },
   "file_extension": ".py",
   "mimetype": "text/x-python",
   "name": "python",
   "nbconvert_exporter": "python",
   "pygments_lexer": "ipython3",
   "version": "3.10.0"
  }
 },
 "nbformat": 4,
 "nbformat_minor": 5
}
