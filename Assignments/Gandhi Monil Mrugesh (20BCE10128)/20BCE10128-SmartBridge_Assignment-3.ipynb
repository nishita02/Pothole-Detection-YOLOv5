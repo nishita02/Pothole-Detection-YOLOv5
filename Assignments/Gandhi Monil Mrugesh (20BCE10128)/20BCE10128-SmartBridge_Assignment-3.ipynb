{
  "metadata": {
    "kernelspec": {
      "language": "python",
      "display_name": "Python 3",
      "name": "python3"
    },
    "language_info": {
      "name": "python",
      "version": "3.10.10",
      "mimetype": "text/x-python",
      "codemirror_mode": {
        "name": "ipython",
        "version": 3
      },
      "pygments_lexer": "ipython3",
      "nbconvert_exporter": "python",
      "file_extension": ".py"
    },
    "colab": {
      "provenance": []
    }
  },
  "nbformat_minor": 0,
  "nbformat": 4,
  "cells": [
    {
      "cell_type": "code",
      "source": [
        "\n",
        "import tensorflow as tf\n",
        "from tensorflow.keras.models import Sequential\n",
        "from tensorflow.keras.layers import Conv2D, MaxPooling2D\n",
        "from tensorflow.keras.layers import Activation, Dropout, Flatten, Dense\n",
        "from tensorflow.keras.preprocessing.image import ImageDataGenerator\n",
        "\n"
      ],
      "metadata": {
        "_uuid": "8f2839f25d086af736a60e9eeb907d3b93b6e0e5",
        "_cell_guid": "b1076dfc-b9ad-4769-8c92-a6c4dae69d19",
        "execution": {
          "iopub.status.busy": "2023-06-07T15:21:18.841990Z",
          "iopub.execute_input": "2023-06-07T15:21:18.842817Z",
          "iopub.status.idle": "2023-06-07T15:21:18.848351Z",
          "shell.execute_reply.started": "2023-06-07T15:21:18.842776Z",
          "shell.execute_reply": "2023-06-07T15:21:18.847464Z"
        },
        "trusted": true,
        "id": "_Vpg0Cb3uwgG"
      },
      "execution_count": null,
      "outputs": []
    },
    {
      "cell_type": "code",
      "source": [
        "from google.colab import drive\n",
        "drive.mount('/content/drive')"
      ],
      "metadata": {
        "colab": {
          "base_uri": "https://localhost:8080/"
        },
        "id": "KpR8YY_Hu9AN",
        "outputId": "e82feeae-64ab-40ac-c860-98caad6c787f"
      },
      "execution_count": null,
      "outputs": [
        {
          "output_type": "stream",
          "name": "stdout",
          "text": [
            "Mounted at /content/drive\n"
          ]
        }
      ]
    },
    {
      "cell_type": "code",
      "source": [
        "# Specifying the directories\n",
        "train_dir = '/content/drive/MyDrive/Bird_classification_dataset_monil/train_data/train_data'\n",
        "test_dir = '/content/drive/MyDrive/Bird_classification_dataset_monil/test_data/test_data'\n",
        "\n",
        "# Initialising data generators\n",
        "train_datagen = ImageDataGenerator(rescale=1. / 255,\n",
        "                                   shear_range=0.2,\n",
        "                                   zoom_range=0.2,\n",
        "                                   horizontal_flip=True,\n",
        "                                   validation_split=0.2)\n",
        "\n",
        "test_datagen = ImageDataGenerator(rescale=1. / 255)\n",
        "\n",
        "train_generator = train_datagen.flow_from_directory(train_dir,\n",
        "                                                    target_size=(150, 150),\n",
        "                                                    batch_size=32,\n",
        "                                                    class_mode='categorical',\n",
        "                                                    subset='training')\n",
        "\n",
        "validation_generator = train_datagen.flow_from_directory(train_dir,\n",
        "                                                         target_size=(150, 150),\n",
        "                                                         batch_size=32,\n",
        "                                                         class_mode='categorical',\n",
        "                                                         subset='validation')\n",
        "\n",
        "test_generator = test_datagen.flow_from_directory(test_dir,\n",
        "                                                  target_size=(150, 150),\n",
        "                                                  batch_size=32,\n",
        "                                                  class_mode='categorical')\n"
      ],
      "metadata": {
        "execution": {
          "iopub.status.busy": "2023-06-07T15:25:28.936287Z",
          "iopub.execute_input": "2023-06-07T15:25:28.936696Z",
          "iopub.status.idle": "2023-06-07T15:25:28.981891Z",
          "shell.execute_reply.started": "2023-06-07T15:25:28.936662Z",
          "shell.execute_reply": "2023-06-07T15:25:28.980640Z"
        },
        "trusted": true,
        "colab": {
          "base_uri": "https://localhost:8080/"
        },
        "id": "X6JYfHWfuwgK",
        "outputId": "b467b1cd-5909-41d4-dbae-e31cf3c5f0f3"
      },
      "execution_count": null,
      "outputs": [
        {
          "output_type": "stream",
          "name": "stdout",
          "text": [
            "Found 124 images belonging to 16 classes.\n",
            "Found 26 images belonging to 16 classes.\n",
            "Found 157 images belonging to 16 classes.\n"
          ]
        }
      ]
    },
    {
      "cell_type": "code",
      "source": [
        "model = Sequential()\n",
        "model.add(Conv2D(32, (3, 3), input_shape=(150, 150, 3)))\n",
        "model.add(Activation('relu'))\n",
        "model.add(MaxPooling2D(pool_size=(2, 2)))\n",
        "model.add(Conv2D(64, (3, 3)))\n",
        "model.add(Activation('relu'))\n",
        "model.add(MaxPooling2D(pool_size=(2, 2)))\n",
        "model.add(Conv2D(128, (3, 3)))\n",
        "model.add(Activation('relu'))\n",
        "model.add(MaxPooling2D(pool_size=(2, 2)))\n",
        "model.add(Flatten())\n",
        "model.add(Dense(64))\n",
        "model.add(Activation('relu'))\n",
        "model.add(Dropout(0.5))\n",
        "model.add(Dense(16))  # number of bird species\n",
        "model.add(Activation('softmax'))\n"
      ],
      "metadata": {
        "execution": {
          "iopub.status.busy": "2023-06-07T15:25:39.369130Z",
          "iopub.execute_input": "2023-06-07T15:25:39.369504Z",
          "iopub.status.idle": "2023-06-07T15:25:39.493565Z",
          "shell.execute_reply.started": "2023-06-07T15:25:39.369476Z",
          "shell.execute_reply": "2023-06-07T15:25:39.492386Z"
        },
        "trusted": true,
        "id": "L10EC9v4uwgL"
      },
      "execution_count": null,
      "outputs": []
    },
    {
      "cell_type": "code",
      "source": [
        "model.compile(loss='categorical_crossentropy',\n",
        "              optimizer='adam',\n",
        "              metrics=['accuracy'])\n"
      ],
      "metadata": {
        "execution": {
          "iopub.status.busy": "2023-06-07T15:28:12.849352Z",
          "iopub.execute_input": "2023-06-07T15:28:12.849786Z",
          "iopub.status.idle": "2023-06-07T15:28:12.863079Z",
          "shell.execute_reply.started": "2023-06-07T15:28:12.849758Z",
          "shell.execute_reply": "2023-06-07T15:28:12.861954Z"
        },
        "trusted": true,
        "id": "RzBgu-7vuwgM"
      },
      "execution_count": null,
      "outputs": []
    },
    {
      "cell_type": "code",
      "source": [
        "# Training the model using train and validation generators\n",
        "model.fit(train_generator,\n",
        "          steps_per_epoch=train_generator.samples // train_generator.batch_size,\n",
        "          validation_data=validation_generator,\n",
        "          validation_steps=validation_generator.samples // validation_generator.batch_size,\n",
        "          epochs=50)"
      ],
      "metadata": {
        "execution": {
          "iopub.status.busy": "2023-06-07T15:28:21.431293Z",
          "iopub.execute_input": "2023-06-07T15:28:21.432336Z",
          "iopub.status.idle": "2023-06-07T15:44:34.965612Z",
          "shell.execute_reply.started": "2023-06-07T15:28:21.432295Z",
          "shell.execute_reply": "2023-06-07T15:44:34.964530Z"
        },
        "trusted": true,
        "id": "33k0CSuxuwgM",
        "outputId": "a0b518f9-87ad-41c9-b78b-6d8671a6db9f"
      },
      "execution_count": null,
      "outputs": [
        {
          "name": "stdout",
          "text": "Epoch 1/50\n3/3 [==============================] - 21s 7s/step - loss: 3.0627 - accuracy: 0.0833\nEpoch 2/50\n3/3 [==============================] - 14s 5s/step - loss: 2.7141 - accuracy: 0.1413\nEpoch 3/50\n3/3 [==============================] - 14s 4s/step - loss: 2.6288 - accuracy: 0.1875\nEpoch 4/50\n3/3 [==============================] - 14s 6s/step - loss: 2.5987 - accuracy: 0.1739\nEpoch 5/50\n3/3 [==============================] - 15s 5s/step - loss: 2.5609 - accuracy: 0.1522\nEpoch 6/50\n3/3 [==============================] - 13s 4s/step - loss: 2.5306 - accuracy: 0.2174\nEpoch 7/50\n3/3 [==============================] - 15s 5s/step - loss: 2.3896 - accuracy: 0.2292\nEpoch 8/50\n3/3 [==============================] - 14s 5s/step - loss: 2.3880 - accuracy: 0.2065\nEpoch 9/50\n3/3 [==============================] - 13s 4s/step - loss: 2.3538 - accuracy: 0.2174\nEpoch 10/50\n3/3 [==============================] - 14s 4s/step - loss: 2.2386 - accuracy: 0.3152\nEpoch 11/50\n3/3 [==============================] - 14s 5s/step - loss: 2.3121 - accuracy: 0.3152\nEpoch 12/50\n3/3 [==============================] - 14s 4s/step - loss: 2.2130 - accuracy: 0.3021\nEpoch 13/50\n3/3 [==============================] - 14s 4s/step - loss: 2.1844 - accuracy: 0.2065\nEpoch 14/50\n3/3 [==============================] - 13s 4s/step - loss: 2.2286 - accuracy: 0.2500\nEpoch 15/50\n3/3 [==============================] - 14s 5s/step - loss: 2.0796 - accuracy: 0.3370\nEpoch 16/50\n3/3 [==============================] - 14s 5s/step - loss: 2.2167 - accuracy: 0.3152\nEpoch 17/50\n3/3 [==============================] - 13s 5s/step - loss: 1.9724 - accuracy: 0.3913\nEpoch 18/50\n3/3 [==============================] - 15s 5s/step - loss: 1.9812 - accuracy: 0.3438\nEpoch 19/50\n3/3 [==============================] - 14s 4s/step - loss: 2.0222 - accuracy: 0.3646\nEpoch 20/50\n3/3 [==============================] - 14s 4s/step - loss: 2.0129 - accuracy: 0.3696\nEpoch 21/50\n3/3 [==============================] - 13s 4s/step - loss: 1.9292 - accuracy: 0.3587\nEpoch 22/50\n3/3 [==============================] - 13s 5s/step - loss: 1.8943 - accuracy: 0.3804\nEpoch 23/50\n3/3 [==============================] - 14s 4s/step - loss: 1.8309 - accuracy: 0.4375\nEpoch 24/50\n3/3 [==============================] - 15s 5s/step - loss: 1.6824 - accuracy: 0.4674\nEpoch 25/50\n3/3 [==============================] - 13s 5s/step - loss: 1.5894 - accuracy: 0.4348\nEpoch 26/50\n3/3 [==============================] - 14s 4s/step - loss: 1.7528 - accuracy: 0.4348\nEpoch 27/50\n3/3 [==============================] - 14s 4s/step - loss: 1.4924 - accuracy: 0.5000\nEpoch 28/50\n3/3 [==============================] - 14s 5s/step - loss: 1.5934 - accuracy: 0.4783\nEpoch 29/50\n3/3 [==============================] - 14s 5s/step - loss: 1.3518 - accuracy: 0.5652\nEpoch 30/50\n3/3 [==============================] - 14s 4s/step - loss: 1.4523 - accuracy: 0.5326\nEpoch 31/50\n3/3 [==============================] - 14s 5s/step - loss: 1.4892 - accuracy: 0.4674\nEpoch 32/50\n3/3 [==============================] - 14s 5s/step - loss: 1.3462 - accuracy: 0.5208\nEpoch 33/50\n3/3 [==============================] - 15s 5s/step - loss: 1.3419 - accuracy: 0.6146\nEpoch 34/50\n3/3 [==============================] - 14s 5s/step - loss: 1.2958 - accuracy: 0.6196\nEpoch 35/50\n3/3 [==============================] - 13s 4s/step - loss: 1.5929 - accuracy: 0.5217\nEpoch 36/50\n3/3 [==============================] - 14s 4s/step - loss: 1.3254 - accuracy: 0.5326\nEpoch 37/50\n3/3 [==============================] - 13s 4s/step - loss: 1.3622 - accuracy: 0.5978\nEpoch 38/50\n3/3 [==============================] - 13s 4s/step - loss: 1.3227 - accuracy: 0.5652\nEpoch 39/50\n3/3 [==============================] - 14s 4s/step - loss: 1.2662 - accuracy: 0.5435\nEpoch 40/50\n3/3 [==============================] - 15s 5s/step - loss: 1.2223 - accuracy: 0.6250\nEpoch 41/50\n3/3 [==============================] - 14s 4s/step - loss: 1.0487 - accuracy: 0.6196\nEpoch 42/50\n3/3 [==============================] - 14s 5s/step - loss: 1.1280 - accuracy: 0.5978\nEpoch 43/50\n3/3 [==============================] - 13s 4s/step - loss: 1.0064 - accuracy: 0.6739\nEpoch 44/50\n3/3 [==============================] - 14s 4s/step - loss: 1.0541 - accuracy: 0.6196\nEpoch 45/50\n3/3 [==============================] - 14s 4s/step - loss: 1.1228 - accuracy: 0.6979\nEpoch 46/50\n3/3 [==============================] - 14s 5s/step - loss: 1.2782 - accuracy: 0.5543\nEpoch 47/50\n3/3 [==============================] - 14s 4s/step - loss: 1.1223 - accuracy: 0.6304\nEpoch 48/50\n3/3 [==============================] - 14s 5s/step - loss: 1.2875 - accuracy: 0.5870\nEpoch 49/50\n3/3 [==============================] - 14s 5s/step - loss: 1.0318 - accuracy: 0.6630\nEpoch 50/50\n3/3 [==============================] - 14s 4s/step - loss: 1.0017 - accuracy: 0.6771\n",
          "output_type": "stream"
        },
        {
          "execution_count": 17,
          "output_type": "execute_result",
          "data": {
            "text/plain": "<keras.callbacks.History at 0x7a7a980b7b20>"
          },
          "metadata": {}
        }
      ]
    },
    {
      "cell_type": "code",
      "source": [
        "# Evaluate the model using test generator\n",
        "loss, accuracy = model.evaluate(test_generator)"
      ],
      "metadata": {
        "execution": {
          "iopub.status.busy": "2023-06-07T16:07:32.128796Z",
          "iopub.execute_input": "2023-06-07T16:07:32.129289Z",
          "iopub.status.idle": "2023-06-07T16:08:04.060815Z",
          "shell.execute_reply.started": "2023-06-07T16:07:32.129253Z",
          "shell.execute_reply": "2023-06-07T16:08:04.059716Z"
        },
        "trusted": true,
        "id": "dh47-JpNuwgM",
        "outputId": "317de96a-2ffb-44b3-e096-b7bcd953aede"
      },
      "execution_count": null,
      "outputs": [
        {
          "name": "stdout",
          "text": "5/5 [==============================] - 26s 5s/step - loss: 3.5081 - accuracy: 0.2739\n",
          "output_type": "stream"
        }
      ]
    },
    {
      "cell_type": "code",
      "source": [],
      "metadata": {
        "id": "wNG2ozEauwgN"
      },
      "execution_count": null,
      "outputs": []
    }
  ]
}