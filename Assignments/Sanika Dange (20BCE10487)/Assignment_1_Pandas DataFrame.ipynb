{
  "nbformat": 4,
  "nbformat_minor": 0,
  "metadata": {
    "colab": {
      "provenance": []
    },
    "kernelspec": {
      "name": "python3",
      "display_name": "Python 3"
    },
    "language_info": {
      "name": "python"
    }
  },
  "cells": [
    {
      "cell_type": "code",
      "execution_count": 1,
      "metadata": {
        "colab": {
          "base_uri": "https://localhost:8080/"
        },
        "id": "8-ud2ZS_SbCa",
        "outputId": "52a70daf-b3cd-4894-ab7d-10a5af75fdb1"
      },
      "outputs": [
        {
          "output_type": "stream",
          "name": "stdout",
          "text": [
            "          0         1         2         3\n",
            "0  0.496714 -0.138264  0.647689  1.523030\n",
            "1 -0.234153 -0.234137  1.579213  0.767435\n",
            "2 -0.469474  0.542560 -0.463418 -0.465730\n",
            "3  0.241962 -1.913280 -1.724918 -0.562288\n"
          ]
        }
      ],
      "source": [
        "# Task - 01\n",
        "\n",
        "import pandas as pd\n",
        "import numpy as np\n",
        "\n",
        "# Set the random seed for reproducibility\n",
        "np.random.seed(42)\n",
        "\n",
        "# Create random values using NumPy\n",
        "random_values = np.random.randn(4, 4)\n",
        "\n",
        "# Create the DataFrame\n",
        "df = pd.DataFrame(random_values)\n",
        "\n",
        "# Display the DataFrame\n",
        "print(df)\n"
      ]
    },
    {
      "cell_type": "code",
      "source": [
        "# Task - 02\n",
        "\n",
        "# Rename the column names\n",
        "df = df.rename(columns={0: 'Random value 1', 1: 'Random value 2', 2: 'Random value 3', 3: 'Random value 4'})\n",
        "\n",
        "# Display the updated DataFrame\n",
        "print(df)\n"
      ],
      "metadata": {
        "colab": {
          "base_uri": "https://localhost:8080/"
        },
        "id": "bVXsAYUSSg0Q",
        "outputId": "28657aed-8ec9-4387-ce5b-4dc19e8c3f6a"
      },
      "execution_count": 2,
      "outputs": [
        {
          "output_type": "stream",
          "name": "stdout",
          "text": [
            "   Random value 1  Random value 2  Random value 3  Random value 4\n",
            "0        0.496714       -0.138264        0.647689        1.523030\n",
            "1       -0.234153       -0.234137        1.579213        0.767435\n",
            "2       -0.469474        0.542560       -0.463418       -0.465730\n",
            "3        0.241962       -1.913280       -1.724918       -0.562288\n"
          ]
        }
      ]
    },
    {
      "cell_type": "code",
      "source": [
        "# Task - 03\n",
        "\n",
        "# Calculate descriptive statistics\n",
        "statistics = df.describe()\n",
        "\n",
        "# Display the statistics\n",
        "print(statistics)\n"
      ],
      "metadata": {
        "colab": {
          "base_uri": "https://localhost:8080/"
        },
        "id": "9L19E0fnSlKQ",
        "outputId": "4a4750a9-bbeb-4f50-e847-7237c2ec12ae"
      },
      "execution_count": 3,
      "outputs": [
        {
          "output_type": "stream",
          "name": "stdout",
          "text": [
            "       Random value 1  Random value 2  Random value 3  Random value 4\n",
            "count        4.000000        4.000000        4.000000        4.000000\n",
            "mean         0.008762       -0.435780        0.009641        0.315612\n",
            "std          0.439772        1.043924        1.426317        1.007175\n",
            "min         -0.469474       -1.913280       -1.724918       -0.562288\n",
            "25%         -0.292984       -0.653923       -0.778793       -0.489869\n",
            "50%          0.003904       -0.186201        0.092135        0.150852\n",
            "75%          0.305650        0.031942        0.880570        0.956334\n",
            "max          0.496714        0.542560        1.579213        1.523030\n"
          ]
        }
      ]
    },
    {
      "cell_type": "code",
      "source": [
        "# Task - 04\n",
        "\n",
        "# Check for null values\n",
        "null_values = df.isnull().sum()\n",
        "\n",
        "# Find data types of columns\n",
        "data_types = df.dtypes\n",
        "\n",
        "# Display the null values and data types\n",
        "print(\"Null Values:\")\n",
        "print(null_values)\n",
        "print(\"\\nData Types:\")\n",
        "print(data_types)\n"
      ],
      "metadata": {
        "colab": {
          "base_uri": "https://localhost:8080/"
        },
        "id": "_0hnRjIPSoJX",
        "outputId": "bd1cc875-e981-4d19-8ed5-a8eac5addfd6"
      },
      "execution_count": 4,
      "outputs": [
        {
          "output_type": "stream",
          "name": "stdout",
          "text": [
            "Null Values:\n",
            "Random value 1    0\n",
            "Random value 2    0\n",
            "Random value 3    0\n",
            "Random value 4    0\n",
            "dtype: int64\n",
            "\n",
            "Data Types:\n",
            "Random value 1    float64\n",
            "Random value 2    float64\n",
            "Random value 3    float64\n",
            "Random value 4    float64\n",
            "dtype: object\n"
          ]
        }
      ]
    },
    {
      "cell_type": "code",
      "source": [
        "# Task - 04\n",
        "\n",
        "# Display 'Random value 2' and 'Random value 3' columns using the location method\n",
        "location_method_columns = df.iloc[:, 1:3]\n",
        "print(\"Location Method Columns:\")\n",
        "print(location_method_columns)\n",
        "\n",
        "# Display 'Random value 2' and 'Random value 3' columns using the index location method\n",
        "index_location_method_columns = df.loc[:, 'Random value 2':'Random value 3']\n",
        "print(\"\\nIndex Location Method Columns:\")\n",
        "print(index_location_method_columns)\n"
      ],
      "metadata": {
        "colab": {
          "base_uri": "https://localhost:8080/"
        },
        "id": "rMew5AP9SqvK",
        "outputId": "e8adbeaa-3523-4646-9568-8f683da83e6c"
      },
      "execution_count": 5,
      "outputs": [
        {
          "output_type": "stream",
          "name": "stdout",
          "text": [
            "Location Method Columns:\n",
            "   Random value 2  Random value 3\n",
            "0       -0.138264        0.647689\n",
            "1       -0.234137        1.579213\n",
            "2        0.542560       -0.463418\n",
            "3       -1.913280       -1.724918\n",
            "\n",
            "Index Location Method Columns:\n",
            "   Random value 2  Random value 3\n",
            "0       -0.138264        0.647689\n",
            "1       -0.234137        1.579213\n",
            "2        0.542560       -0.463418\n",
            "3       -1.913280       -1.724918\n"
          ]
        }
      ]
    }
  ]
}